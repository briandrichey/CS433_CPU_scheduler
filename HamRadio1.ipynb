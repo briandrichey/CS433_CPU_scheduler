{
  "nbformat": 4,
  "nbformat_minor": 0,
  "metadata": {
    "colab": {
      "name": "HamRadio1.ipynb",
      "provenance": [],
      "include_colab_link": true
    },
    "kernelspec": {
      "name": "python3",
      "display_name": "Python 3"
    },
    "language_info": {
      "name": "python"
    }
  },
  "cells": [
    {
      "cell_type": "markdown",
      "metadata": {
        "id": "view-in-github",
        "colab_type": "text"
      },
      "source": [
        "<a href=\"https://colab.research.google.com/github/briandrichey/CS433_CPU_scheduler/blob/main/HamRadio1.ipynb\" target=\"_parent\"><img src=\"https://colab.research.google.com/assets/colab-badge.svg\" alt=\"Open In Colab\"/></a>"
      ]
    },
    {
      "cell_type": "code",
      "metadata": {
        "id": "jP6cHDmu3fKE"
      },
      "source": [
        "from google.colab import drive\n",
        "drive.mount('/content/gdrive')\n",
        "root_path = 'gdrive/MyDrive/'; "
      ],
      "execution_count": null,
      "outputs": []
    },
    {
      "cell_type": "code",
      "metadata": {
        "id": "CQr6w_G73jp9"
      },
      "source": [
        "import pandas as pd\n",
        "#pandas_data = pd.read_csv(\"gdrive/MyDrive/ham_data.csv\", sep = \",\",names=list(range(11))) \n",
        "pandas_data = pd.read_csv(\"gdrive/MyDrive/ham_data.csv\", sep = \",\",names=['date','time','base', 'txrx', 'encoding', 'signal_strength', 'timedelay','offset','rxcall','txcall','message']) "
      ],
      "execution_count": null,
      "outputs": []
    },
    {
      "cell_type": "code",
      "metadata": {
        "id": "TRMXvSST4FsP"
      },
      "source": [
        "pandas_data.info()"
      ],
      "execution_count": null,
      "outputs": []
    },
    {
      "cell_type": "code",
      "metadata": {
        "colab": {
          "base_uri": "https://localhost:8080/",
          "height": 297
        },
        "id": "MHyoY1Vr4aNb",
        "outputId": "ed035256-936d-452f-e2c7-d0a618cb7c03"
      },
      "source": [
        "pandas_data.describe()"
      ],
      "execution_count": null,
      "outputs": [
        {
          "output_type": "execute_result",
          "data": {
            "text/html": [
              "<div>\n",
              "<style scoped>\n",
              "    .dataframe tbody tr th:only-of-type {\n",
              "        vertical-align: middle;\n",
              "    }\n",
              "\n",
              "    .dataframe tbody tr th {\n",
              "        vertical-align: top;\n",
              "    }\n",
              "\n",
              "    .dataframe thead th {\n",
              "        text-align: right;\n",
              "    }\n",
              "</style>\n",
              "<table border=\"1\" class=\"dataframe\">\n",
              "  <thead>\n",
              "    <tr style=\"text-align: right;\">\n",
              "      <th></th>\n",
              "      <th>date</th>\n",
              "      <th>time</th>\n",
              "      <th>base</th>\n",
              "      <th>signal_strength</th>\n",
              "      <th>timedelay</th>\n",
              "      <th>offset</th>\n",
              "    </tr>\n",
              "  </thead>\n",
              "  <tbody>\n",
              "    <tr>\n",
              "      <th>count</th>\n",
              "      <td>659914.000000</td>\n",
              "      <td>659914.000000</td>\n",
              "      <td>659914.000000</td>\n",
              "      <td>659914.000000</td>\n",
              "      <td>659914.000000</td>\n",
              "      <td>659914.000000</td>\n",
              "    </tr>\n",
              "    <tr>\n",
              "      <th>mean</th>\n",
              "      <td>210533.577539</td>\n",
              "      <td>197402.538488</td>\n",
              "      <td>16.992754</td>\n",
              "      <td>-7.284467</td>\n",
              "      <td>0.187027</td>\n",
              "      <td>1451.856948</td>\n",
              "    </tr>\n",
              "    <tr>\n",
              "      <th>std</th>\n",
              "      <td>70.635656</td>\n",
              "      <td>25507.488314</td>\n",
              "      <td>3.698477</td>\n",
              "      <td>9.156802</td>\n",
              "      <td>0.463300</td>\n",
              "      <td>682.661424</td>\n",
              "    </tr>\n",
              "    <tr>\n",
              "      <th>min</th>\n",
              "      <td>210422.000000</td>\n",
              "      <td>0.000000</td>\n",
              "      <td>2.223000</td>\n",
              "      <td>-24.000000</td>\n",
              "      <td>-2.600000</td>\n",
              "      <td>98.000000</td>\n",
              "    </tr>\n",
              "    <tr>\n",
              "      <th>25%</th>\n",
              "      <td>210504.000000</td>\n",
              "      <td>182330.000000</td>\n",
              "      <td>14.074000</td>\n",
              "      <td>-14.000000</td>\n",
              "      <td>0.000000</td>\n",
              "      <td>900.000000</td>\n",
              "    </tr>\n",
              "    <tr>\n",
              "      <th>50%</th>\n",
              "      <td>210519.000000</td>\n",
              "      <td>201915.000000</td>\n",
              "      <td>18.100000</td>\n",
              "      <td>-8.000000</td>\n",
              "      <td>0.200000</td>\n",
              "      <td>1430.000000</td>\n",
              "    </tr>\n",
              "    <tr>\n",
              "      <th>75%</th>\n",
              "      <td>210608.000000</td>\n",
              "      <td>214015.000000</td>\n",
              "      <td>18.100000</td>\n",
              "      <td>-1.000000</td>\n",
              "      <td>0.400000</td>\n",
              "      <td>1983.000000</td>\n",
              "    </tr>\n",
              "    <tr>\n",
              "      <th>max</th>\n",
              "      <td>210625.000000</td>\n",
              "      <td>235952.000000</td>\n",
              "      <td>50.318000</td>\n",
              "      <td>77.000000</td>\n",
              "      <td>2.500000</td>\n",
              "      <td>3633.000000</td>\n",
              "    </tr>\n",
              "  </tbody>\n",
              "</table>\n",
              "</div>"
            ],
            "text/plain": [
              "                date           time  ...      timedelay         offset\n",
              "count  659914.000000  659914.000000  ...  659914.000000  659914.000000\n",
              "mean   210533.577539  197402.538488  ...       0.187027    1451.856948\n",
              "std        70.635656   25507.488314  ...       0.463300     682.661424\n",
              "min    210422.000000       0.000000  ...      -2.600000      98.000000\n",
              "25%    210504.000000  182330.000000  ...       0.000000     900.000000\n",
              "50%    210519.000000  201915.000000  ...       0.200000    1430.000000\n",
              "75%    210608.000000  214015.000000  ...       0.400000    1983.000000\n",
              "max    210625.000000  235952.000000  ...       2.500000    3633.000000\n",
              "\n",
              "[8 rows x 6 columns]"
            ]
          },
          "metadata": {},
          "execution_count": 5
        }
      ]
    },
    {
      "cell_type": "code",
      "metadata": {
        "colab": {
          "base_uri": "https://localhost:8080/"
        },
        "id": "MdCgzxrMDJFX",
        "outputId": "d6488ba0-66ac-4dfd-f2b7-ec581d855e6c"
      },
      "source": [
        "pandas_data.iloc[0]"
      ],
      "execution_count": null,
      "outputs": [
        {
          "output_type": "execute_result",
          "data": {
            "text/plain": [
              "date               210422\n",
              "time               164145\n",
              "base                7.074\n",
              "txrx                   Rx\n",
              "encoding              FT8\n",
              "signal_strength       -13\n",
              "timedelay             0.1\n",
              "offset                103\n",
              "rxcall                 CQ\n",
              "txcall              W0WND\n",
              "message              DM97\n",
              "Name: 0, dtype: object"
            ]
          },
          "metadata": {},
          "execution_count": 6
        }
      ]
    },
    {
      "cell_type": "code",
      "metadata": {
        "id": "oV9971ar7v6J"
      },
      "source": [
        "import numpy as np\n",
        "dat = pandas_data['date'] \n",
        "year = np.zeros(np.array(dat).size)\n",
        "month = np.zeros(np.array(dat).size)\n",
        "day = np.zeros(np.array(dat).size)\n",
        "for i in range(np.array(dat).size):\n",
        "    year[i] = int(str(dat[i])[0:2]) \n",
        "    month[i] = int(str(dat[i])[2:4])\n",
        "    day[i] = int(str(dat[i])[4:6])"
      ],
      "execution_count": null,
      "outputs": []
    },
    {
      "cell_type": "code",
      "metadata": {
        "id": "5NVwG_fE8ADz"
      },
      "source": [
        "tim = pandas_data['time'] \n",
        "hour = np.zeros(np.array(tim).size)\n",
        "minutes = np.zeros(np.array(tim).size)\n",
        "seconds = np.zeros(np.array(tim).size)\n",
        "for i in range(np.array(tim).size): \n",
        "  if(len(str(tim[i]))== 6): \n",
        "    hour[i] = int(str(tim[i])[0:2]) \n",
        "    minutes[i] = int(str(tim[i])[2:4]) \n",
        "    seconds[i] = int(str(tim[i])[4:6])"
      ],
      "execution_count": null,
      "outputs": []
    },
    {
      "cell_type": "code",
      "metadata": {
        "id": "H6ie8wuFFjSb"
      },
      "source": [
        "base_freq = np.array(pandas_data['base'] ) \n",
        "#signal = np.array(pandas_data['signal_strength'][pandas_data['signal_strength'] < 25]) \n",
        "signal = np.array(pandas_data['signal_strength'])\n",
        "time_delay = np.array(pandas_data['timedelay'])\n",
        "freq_offset = np.array(pandas_data['offset']/1000)"
      ],
      "execution_count": null,
      "outputs": []
    },
    {
      "cell_type": "code",
      "metadata": {
        "id": "DmXHt7PJG81J"
      },
      "source": [
        "pandas_data_2 = pd.read_csv(\"gdrive/MyDrive/ham_data_2.csv\", encoding='latin-1') "
      ],
      "execution_count": null,
      "outputs": []
    },
    {
      "cell_type": "code",
      "metadata": {
        "colab": {
          "base_uri": "https://localhost:8080/",
          "height": 351
        },
        "id": "vdbdQi3087Js",
        "outputId": "97db89f9-3331-48af-e4c8-b9039725ef35"
      },
      "source": [
        "pandas_data_2.describe()"
      ],
      "execution_count": null,
      "outputs": [
        {
          "output_type": "execute_result",
          "data": {
            "text/html": [
              "<div>\n",
              "<style scoped>\n",
              "    .dataframe tbody tr th:only-of-type {\n",
              "        vertical-align: middle;\n",
              "    }\n",
              "\n",
              "    .dataframe tbody tr th {\n",
              "        vertical-align: top;\n",
              "    }\n",
              "\n",
              "    .dataframe thead th {\n",
              "        text-align: right;\n",
              "    }\n",
              "</style>\n",
              "<table border=\"1\" class=\"dataframe\">\n",
              "  <thead>\n",
              "    <tr style=\"text-align: right;\">\n",
              "      <th></th>\n",
              "      <th>Line</th>\n",
              "      <th>Date(yymmdd)</th>\n",
              "      <th>Date(yyymmdd)</th>\n",
              "      <th>Date(yyymmdd).1</th>\n",
              "      <th>Time(24)</th>\n",
              "      <th>Frequency(MHz)</th>\n",
              "      <th>Receive Strength</th>\n",
              "      <th>Delta Time</th>\n",
              "      <th>Frequency Offset (kHz)</th>\n",
              "    </tr>\n",
              "  </thead>\n",
              "  <tbody>\n",
              "    <tr>\n",
              "      <th>count</th>\n",
              "      <td>659914.000000</td>\n",
              "      <td>659914.000000</td>\n",
              "      <td>6.599140e+05</td>\n",
              "      <td>6.599140e+05</td>\n",
              "      <td>659914.000000</td>\n",
              "      <td>659914.000000</td>\n",
              "      <td>659914.000000</td>\n",
              "      <td>659914.000000</td>\n",
              "      <td>659914.000000</td>\n",
              "    </tr>\n",
              "    <tr>\n",
              "      <th>mean</th>\n",
              "      <td>329957.500000</td>\n",
              "      <td>210533.577539</td>\n",
              "      <td>2.021053e+07</td>\n",
              "      <td>2.021053e+07</td>\n",
              "      <td>197402.538488</td>\n",
              "      <td>16.992754</td>\n",
              "      <td>-7.284467</td>\n",
              "      <td>0.187027</td>\n",
              "      <td>1451.856948</td>\n",
              "    </tr>\n",
              "    <tr>\n",
              "      <th>std</th>\n",
              "      <td>190500.907108</td>\n",
              "      <td>70.635656</td>\n",
              "      <td>7.063566e+01</td>\n",
              "      <td>7.063566e+01</td>\n",
              "      <td>25507.488314</td>\n",
              "      <td>3.698477</td>\n",
              "      <td>9.156802</td>\n",
              "      <td>0.463300</td>\n",
              "      <td>682.661424</td>\n",
              "    </tr>\n",
              "    <tr>\n",
              "      <th>min</th>\n",
              "      <td>1.000000</td>\n",
              "      <td>210422.000000</td>\n",
              "      <td>2.021042e+07</td>\n",
              "      <td>2.021042e+07</td>\n",
              "      <td>0.000000</td>\n",
              "      <td>2.223000</td>\n",
              "      <td>-24.000000</td>\n",
              "      <td>-2.600000</td>\n",
              "      <td>98.000000</td>\n",
              "    </tr>\n",
              "    <tr>\n",
              "      <th>25%</th>\n",
              "      <td>164979.250000</td>\n",
              "      <td>210504.000000</td>\n",
              "      <td>2.021050e+07</td>\n",
              "      <td>2.021050e+07</td>\n",
              "      <td>182330.000000</td>\n",
              "      <td>14.074000</td>\n",
              "      <td>-14.000000</td>\n",
              "      <td>0.000000</td>\n",
              "      <td>900.000000</td>\n",
              "    </tr>\n",
              "    <tr>\n",
              "      <th>50%</th>\n",
              "      <td>329957.500000</td>\n",
              "      <td>210519.000000</td>\n",
              "      <td>2.021052e+07</td>\n",
              "      <td>2.021052e+07</td>\n",
              "      <td>201915.000000</td>\n",
              "      <td>18.100000</td>\n",
              "      <td>-8.000000</td>\n",
              "      <td>0.200000</td>\n",
              "      <td>1430.000000</td>\n",
              "    </tr>\n",
              "    <tr>\n",
              "      <th>75%</th>\n",
              "      <td>494935.750000</td>\n",
              "      <td>210608.000000</td>\n",
              "      <td>2.021061e+07</td>\n",
              "      <td>2.021061e+07</td>\n",
              "      <td>214015.000000</td>\n",
              "      <td>18.100000</td>\n",
              "      <td>-1.000000</td>\n",
              "      <td>0.400000</td>\n",
              "      <td>1983.000000</td>\n",
              "    </tr>\n",
              "    <tr>\n",
              "      <th>max</th>\n",
              "      <td>659914.000000</td>\n",
              "      <td>210625.000000</td>\n",
              "      <td>2.021062e+07</td>\n",
              "      <td>2.021062e+07</td>\n",
              "      <td>235952.000000</td>\n",
              "      <td>50.318000</td>\n",
              "      <td>77.000000</td>\n",
              "      <td>2.500000</td>\n",
              "      <td>3633.000000</td>\n",
              "    </tr>\n",
              "  </tbody>\n",
              "</table>\n",
              "</div>"
            ],
            "text/plain": [
              "                Line   Date(yymmdd)  ...     Delta Time  Frequency Offset (kHz)\n",
              "count  659914.000000  659914.000000  ...  659914.000000           659914.000000\n",
              "mean   329957.500000  210533.577539  ...       0.187027             1451.856948\n",
              "std    190500.907108      70.635656  ...       0.463300              682.661424\n",
              "min         1.000000  210422.000000  ...      -2.600000               98.000000\n",
              "25%    164979.250000  210504.000000  ...       0.000000              900.000000\n",
              "50%    329957.500000  210519.000000  ...       0.200000             1430.000000\n",
              "75%    494935.750000  210608.000000  ...       0.400000             1983.000000\n",
              "max    659914.000000  210625.000000  ...       2.500000             3633.000000\n",
              "\n",
              "[8 rows x 9 columns]"
            ]
          },
          "metadata": {},
          "execution_count": 11
        }
      ]
    },
    {
      "cell_type": "code",
      "metadata": {
        "id": "BqtidH8KFz6r"
      },
      "source": [
        "from sklearn import preprocessing \n",
        "\n",
        "X_processed_data = {'hour': hour.astype(int), 'minute': minutes.astype(int), 'seconds': seconds.astype(int),\n",
        "                  'rs' : signal, 'dt' : time_delay}\n",
        "\n"
      ],
      "execution_count": null,
      "outputs": []
    },
    {
      "cell_type": "code",
      "metadata": {
        "id": "nqog_aGWS-6j",
        "colab": {
          "base_uri": "https://localhost:8080/",
          "height": 197
        },
        "outputId": "bd3d9004-6dd6-4846-dace-ce0023e30327"
      },
      "source": [
        "X = pd.DataFrame(X_processed_data)\n",
        "print('\\nprocessed inputs = \\n', X)\n",
        "\n"
      ],
      "execution_count": 8,
      "outputs": [
        {
          "output_type": "error",
          "ename": "NameError",
          "evalue": "ignored",
          "traceback": [
            "\u001b[0;31m---------------------------------------------------------------------------\u001b[0m",
            "\u001b[0;31mNameError\u001b[0m                                 Traceback (most recent call last)",
            "\u001b[0;32m<ipython-input-8-5976cb5c1012>\u001b[0m in \u001b[0;36m<module>\u001b[0;34m()\u001b[0m\n\u001b[0;32m----> 1\u001b[0;31m \u001b[0mX\u001b[0m \u001b[0;34m=\u001b[0m \u001b[0mpd\u001b[0m\u001b[0;34m.\u001b[0m\u001b[0mDataFrame\u001b[0m\u001b[0;34m(\u001b[0m\u001b[0mX_processed_data\u001b[0m\u001b[0;34m)\u001b[0m\u001b[0;34m\u001b[0m\u001b[0;34m\u001b[0m\u001b[0m\n\u001b[0m\u001b[1;32m      2\u001b[0m \u001b[0mprint\u001b[0m\u001b[0;34m(\u001b[0m\u001b[0;34m'\\nprocessed inputs = \\n'\u001b[0m\u001b[0;34m,\u001b[0m \u001b[0mX\u001b[0m\u001b[0;34m)\u001b[0m\u001b[0;34m\u001b[0m\u001b[0;34m\u001b[0m\u001b[0m\n\u001b[1;32m      3\u001b[0m \u001b[0;34m\u001b[0m\u001b[0m\n",
            "\u001b[0;31mNameError\u001b[0m: name 'pd' is not defined"
          ]
        }
      ]
    },
    {
      "cell_type": "code",
      "metadata": {
        "colab": {
          "base_uri": "https://localhost:8080/",
          "height": 231
        },
        "id": "C-LZo9lnd6RP",
        "outputId": "5b8bae52-3580-4d54-a44b-5b6bb2d4ae8a"
      },
      "source": [
        "from sklearn.model_selection import train_test_split \n",
        "from sklearn.tree import DecisionTreeClassifier\n",
        "\n",
        "y = base_freq.astype(str)\n",
        "\n",
        "X_train, X_test, y_train, y_test = train_test_split(X, y, test_size = 0.2)\n",
        "\n",
        "model = DecisionTreeClassifier() \n",
        "# model = DecisionTreeClassifier() #selection du modele voulu\n",
        "model.fit(X_train, y_train)"
      ],
      "execution_count": 7,
      "outputs": [
        {
          "output_type": "error",
          "ename": "NameError",
          "evalue": "ignored",
          "traceback": [
            "\u001b[0;31m---------------------------------------------------------------------------\u001b[0m",
            "\u001b[0;31mNameError\u001b[0m                                 Traceback (most recent call last)",
            "\u001b[0;32m<ipython-input-7-c34c946e394b>\u001b[0m in \u001b[0;36m<module>\u001b[0;34m()\u001b[0m\n\u001b[1;32m      2\u001b[0m \u001b[0;32mfrom\u001b[0m \u001b[0msklearn\u001b[0m\u001b[0;34m.\u001b[0m\u001b[0mtree\u001b[0m \u001b[0;32mimport\u001b[0m \u001b[0mDecisionTreeClassifier\u001b[0m\u001b[0;34m\u001b[0m\u001b[0;34m\u001b[0m\u001b[0m\n\u001b[1;32m      3\u001b[0m \u001b[0;34m\u001b[0m\u001b[0m\n\u001b[0;32m----> 4\u001b[0;31m \u001b[0my\u001b[0m \u001b[0;34m=\u001b[0m \u001b[0mbase_freq\u001b[0m\u001b[0;34m.\u001b[0m\u001b[0mastype\u001b[0m\u001b[0;34m(\u001b[0m\u001b[0mstr\u001b[0m\u001b[0;34m)\u001b[0m\u001b[0;34m\u001b[0m\u001b[0;34m\u001b[0m\u001b[0m\n\u001b[0m\u001b[1;32m      5\u001b[0m \u001b[0;34m\u001b[0m\u001b[0m\n\u001b[1;32m      6\u001b[0m \u001b[0mX_train\u001b[0m\u001b[0;34m,\u001b[0m \u001b[0mX_test\u001b[0m\u001b[0;34m,\u001b[0m \u001b[0my_train\u001b[0m\u001b[0;34m,\u001b[0m \u001b[0my_test\u001b[0m \u001b[0;34m=\u001b[0m \u001b[0mtrain_test_split\u001b[0m\u001b[0;34m(\u001b[0m\u001b[0mX\u001b[0m\u001b[0;34m,\u001b[0m \u001b[0my\u001b[0m\u001b[0;34m,\u001b[0m \u001b[0mtest_size\u001b[0m \u001b[0;34m=\u001b[0m \u001b[0;36m0.2\u001b[0m\u001b[0;34m)\u001b[0m\u001b[0;34m\u001b[0m\u001b[0;34m\u001b[0m\u001b[0m\n",
            "\u001b[0;31mNameError\u001b[0m: name 'base_freq' is not defined"
          ]
        }
      ]
    },
    {
      "cell_type": "code",
      "metadata": {
        "id": "7XKQkQ3ilPKm"
      },
      "source": [
        "predictions = model.predict(X_test)\n",
        "from sklearn.metrics import accuracy_score, confusion_matrix, ConfusionMatrixDisplay, classification_report\n",
        "cm = confusion_matrix(y_test, predictions, labels=model.classes_)\n",
        "cm\n",
        "\n",
        "print(classification_report(y_test, predictions, labels=model.classes_))\n",
        "disp = ConfusionMatrixDisplay(confusion_matrix=cm, display_labels=model.classes_)\n",
        "disp.plot()"
      ],
      "execution_count": null,
      "outputs": []
    }
  ]
}